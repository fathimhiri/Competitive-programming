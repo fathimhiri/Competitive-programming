{
  "nbformat": 4,
  "nbformat_minor": 0,
  "metadata": {
    "colab": {
      "name": "Untitled13.ipynb",
      "provenance": []
    },
    "kernelspec": {
      "name": "python3",
      "display_name": "Python 3"
    },
    "language_info": {
      "name": "python"
    }
  },
  "cells": [
    {
      "cell_type": "markdown",
      "metadata": {
        "id": "CnYHdWwYQuJb"
      },
      "source": [
        "Competitive Programming Problem\n",
        "\n",
        "Generate All Binary Strings\n",
        "\n",
        "\n",
        "if n=2 ['00', '01', '10', '11']\n",
        "\n",
        "if n=3 ['000', '001', '010', '011', '100', '101', '110', '111']\n",
        "\n",
        "\n",
        "\n",
        "\n",
        "if n=4 ['0000', '0001', '0010', '0011', '0100', '0101', '0110', '0111', '1000', '1001', '1010', '1011', '1100', '1101', '1110', '1111']\n"
      ]
    },
    {
      "cell_type": "code",
      "metadata": {
        "id": "Y2mDGIh_K88i"
      },
      "source": [
        "def add(list, c):\n",
        "  return [c + element for element in list]\n"
      ],
      "execution_count": 24,
      "outputs": []
    },
    {
      "cell_type": "code",
      "metadata": {
        "colab": {
          "base_uri": "https://localhost:8080/"
        },
        "id": "Z6g6ExU2RoiU",
        "outputId": "29ab9a58-d9bb-48ae-d842-5eb2d996f880"
      },
      "source": [
        "add([\"0\",\"1\"],\"0\")"
      ],
      "execution_count": 25,
      "outputs": [
        {
          "output_type": "execute_result",
          "data": {
            "text/plain": [
              "['00', '01']"
            ]
          },
          "metadata": {},
          "execution_count": 25
        }
      ]
    },
    {
      "cell_type": "code",
      "metadata": {
        "id": "3gkVOHLTQaSs"
      },
      "source": [
        "def binary(n):\n",
        "  if (n==1) :\n",
        "    return [\"0\",\"1\"]\n",
        "  return add(binary(n-1),\"0\") + add(binary(n-1),\"1\")\n",
        "\n"
      ],
      "execution_count": 31,
      "outputs": []
    },
    {
      "cell_type": "markdown",
      "metadata": {
        "id": "Xvu70k5OQrtL"
      },
      "source": [
        ""
      ]
    },
    {
      "cell_type": "code",
      "metadata": {
        "colab": {
          "base_uri": "https://localhost:8080/"
        },
        "id": "M7cRDu2nMLXq",
        "outputId": "33b7487a-e69f-461b-9804-b76e69060e7b"
      },
      "source": [
        "binary(2)"
      ],
      "execution_count": 32,
      "outputs": [
        {
          "output_type": "execute_result",
          "data": {
            "text/plain": [
              "['00', '01', '10', '11']"
            ]
          },
          "metadata": {},
          "execution_count": 32
        }
      ]
    },
    {
      "cell_type": "code",
      "metadata": {
        "colab": {
          "base_uri": "https://localhost:8080/"
        },
        "id": "vUbJ2OngTYPZ",
        "outputId": "76f77bd5-1d24-4c2f-d48b-3429a24262c8"
      },
      "source": [
        "binary(3)"
      ],
      "execution_count": 33,
      "outputs": [
        {
          "output_type": "execute_result",
          "data": {
            "text/plain": [
              "['000', '001', '010', '011', '100', '101', '110', '111']"
            ]
          },
          "metadata": {},
          "execution_count": 33
        }
      ]
    },
    {
      "cell_type": "code",
      "metadata": {
        "colab": {
          "base_uri": "https://localhost:8080/"
        },
        "id": "Sc9OqyRzc9Q-",
        "outputId": "70805839-a534-4bf0-b8b6-264e4b21ea03"
      },
      "source": [
        "binary(7)"
      ],
      "execution_count": 34,
      "outputs": [
        {
          "output_type": "execute_result",
          "data": {
            "text/plain": [
              "['0000000',\n",
              " '0000001',\n",
              " '0000010',\n",
              " '0000011',\n",
              " '0000100',\n",
              " '0000101',\n",
              " '0000110',\n",
              " '0000111',\n",
              " '0001000',\n",
              " '0001001',\n",
              " '0001010',\n",
              " '0001011',\n",
              " '0001100',\n",
              " '0001101',\n",
              " '0001110',\n",
              " '0001111',\n",
              " '0010000',\n",
              " '0010001',\n",
              " '0010010',\n",
              " '0010011',\n",
              " '0010100',\n",
              " '0010101',\n",
              " '0010110',\n",
              " '0010111',\n",
              " '0011000',\n",
              " '0011001',\n",
              " '0011010',\n",
              " '0011011',\n",
              " '0011100',\n",
              " '0011101',\n",
              " '0011110',\n",
              " '0011111',\n",
              " '0100000',\n",
              " '0100001',\n",
              " '0100010',\n",
              " '0100011',\n",
              " '0100100',\n",
              " '0100101',\n",
              " '0100110',\n",
              " '0100111',\n",
              " '0101000',\n",
              " '0101001',\n",
              " '0101010',\n",
              " '0101011',\n",
              " '0101100',\n",
              " '0101101',\n",
              " '0101110',\n",
              " '0101111',\n",
              " '0110000',\n",
              " '0110001',\n",
              " '0110010',\n",
              " '0110011',\n",
              " '0110100',\n",
              " '0110101',\n",
              " '0110110',\n",
              " '0110111',\n",
              " '0111000',\n",
              " '0111001',\n",
              " '0111010',\n",
              " '0111011',\n",
              " '0111100',\n",
              " '0111101',\n",
              " '0111110',\n",
              " '0111111',\n",
              " '1000000',\n",
              " '1000001',\n",
              " '1000010',\n",
              " '1000011',\n",
              " '1000100',\n",
              " '1000101',\n",
              " '1000110',\n",
              " '1000111',\n",
              " '1001000',\n",
              " '1001001',\n",
              " '1001010',\n",
              " '1001011',\n",
              " '1001100',\n",
              " '1001101',\n",
              " '1001110',\n",
              " '1001111',\n",
              " '1010000',\n",
              " '1010001',\n",
              " '1010010',\n",
              " '1010011',\n",
              " '1010100',\n",
              " '1010101',\n",
              " '1010110',\n",
              " '1010111',\n",
              " '1011000',\n",
              " '1011001',\n",
              " '1011010',\n",
              " '1011011',\n",
              " '1011100',\n",
              " '1011101',\n",
              " '1011110',\n",
              " '1011111',\n",
              " '1100000',\n",
              " '1100001',\n",
              " '1100010',\n",
              " '1100011',\n",
              " '1100100',\n",
              " '1100101',\n",
              " '1100110',\n",
              " '1100111',\n",
              " '1101000',\n",
              " '1101001',\n",
              " '1101010',\n",
              " '1101011',\n",
              " '1101100',\n",
              " '1101101',\n",
              " '1101110',\n",
              " '1101111',\n",
              " '1110000',\n",
              " '1110001',\n",
              " '1110010',\n",
              " '1110011',\n",
              " '1110100',\n",
              " '1110101',\n",
              " '1110110',\n",
              " '1110111',\n",
              " '1111000',\n",
              " '1111001',\n",
              " '1111010',\n",
              " '1111011',\n",
              " '1111100',\n",
              " '1111101',\n",
              " '1111110',\n",
              " '1111111']"
            ]
          },
          "metadata": {},
          "execution_count": 34
        }
      ]
    },
    {
      "cell_type": "code",
      "metadata": {
        "id": "kHqN2YTUdZGR"
      },
      "source": [
        ""
      ],
      "execution_count": null,
      "outputs": []
    }
  ]
}